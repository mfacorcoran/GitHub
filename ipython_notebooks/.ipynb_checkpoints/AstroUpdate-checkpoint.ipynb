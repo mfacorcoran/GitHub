{
 "metadata": {
  "name": ""
 },
 "nbformat": 3,
 "nbformat_minor": 0,
 "worksheets": [
  {
   "cells": [
    {
     "cell_type": "markdown",
     "metadata": {},
     "source": [
      "<h3>How to get the latest version id for a given software package from astro-update</h3>\n"
     ]
    },
    {
     "cell_type": "code",
     "collapsed": false,
     "input": [
      "from bs4 import BeautifulSoup\n",
      "import urllib2"
     ],
     "language": "python",
     "metadata": {},
     "outputs": [],
     "prompt_number": 2
    },
    {
     "cell_type": "code",
     "collapsed": false,
     "input": [
      "response = urllib2.urlopen('http://heasarc.gsfc.nasa.gov/docs/heasarc/astro-update/')\n",
      "html=response.read()"
     ],
     "language": "python",
     "metadata": {},
     "outputs": [],
     "prompt_number": 86
    },
    {
     "cell_type": "code",
     "collapsed": false,
     "input": [
      "soup=BeautifulSoup(''.join(html))"
     ],
     "language": "python",
     "metadata": {},
     "outputs": [],
     "prompt_number": 87
    },
    {
     "cell_type": "code",
     "collapsed": false,
     "input": [
      "table=soup.findAll('table')\n",
      "soft_table=table[1] # there are 3 tables on the page, the software version table is the 2nd table"
     ],
     "language": "python",
     "metadata": {},
     "outputs": [],
     "prompt_number": 88
    },
    {
     "cell_type": "code",
     "collapsed": false,
     "input": [
      "rows = soft_table.findAll('tr')\n",
      "i=0\n",
      "name=[]\n",
      "for row in rows[1:]:\n",
      "    cols = row.findAll('td')\n",
      "    i=i+1\n",
      "    n   =''.join(cols[0].find(text=True))\n",
      "    name.append(n)\n",
      "    rep    =''.join(cols[1].find(text=True))\n",
      "    vers   =''.join(cols[2].find(text=True))\n",
      "    moddate=''.join(cols[3].find(text=True))\n",
      "    print \"%i %s was last updated by %s to version %s on %s\" % (i,n, rep, vers, moddate)\n",
      "#    progname=''.join(td.find(text=True))\n",
      "#    print progname\n",
      "    "
     ],
     "language": "python",
     "metadata": {},
     "outputs": [
      {
       "output_type": "stream",
       "stream": "stdout",
       "text": [
        "1 CPL was last updated by ESO to version 6.4.1  on 04/10/2014\n",
        "2 Aladin was last updated by CDS; ULP/CNRS  to version 8 on 03/25/2014\n",
        "3 XSPEC was last updated by HEASARC to version 12.8.1m on 03/21/2014\n",
        "4 APT was last updated by STScI to version  22.0.2 on 03/17/2014\n",
        "5 IDL Astronomical Users Library was last updated by ASD/GSFC to version  13 Mar 2014 on 03/13/2014\n",
        "6 SPLASH was last updated by D. Price/Monash to version 2.4.0 on 02/21/2014\n",
        "7 ACIS_EXTRACT was last updated by PSU to version  2014Feb17 on 02/17/2014\n",
        "8 TARA was last updated by PSU to version  2014Feb16 on 02/16/2014\n",
        "9 CIAO was last updated by CXC to version  4.6.1  on 02/4/2014\n",
        "10 HEAsoft was last updated by HEASARC to version  6.15.1 on 01/28/2014\n",
        "11 P2PP was last updated by ESO to version 3.4.0  on 12/19/2013\n",
        "12 SAS was last updated by XMM-SOC to version  13.5.0 on 12/11/2013\n",
        "13 CFITSIO was last updated by HEASARC to version  3.36  on 12/06/2013\n",
        "14 IDL Astronomical Users Library was last updated by ASD/GSFC to version  06 Nov 2013 on 11/06/2013\n",
        "15 SAE was last updated by FSSC to version  v9r32p5 on 10/24/2013\n",
        "16 CHIANTI IDL package was last updated by GMU, U. Michigan and Cambridge to version 7.1.4 on 08/14/2013\n",
        "17 PINTofALE was last updated by Drake & Kashyap/CXC to version  2.954 on 08/10/2013\n",
        "18 ISIS was last updated by CXC to version  1.6.2-25 on 08/08/2013\n",
        "19 GSL was last updated by Free Software Foundation to version  1.16 on 07/19/2013\n",
        "20 Ureka was last updated by STScI to version  1.0 beta 5 on 07/17/2013\n",
        "21 STScI Python was last updated by STScI to version  2.14 on 05/31/2013\n",
        "22 GAIA AND SKYCAT was last updated by ESO to version 4.4-4 on 05/30/2013\n",
        "23 VLT Instrument Pipelines was last updated by ESO to version 24 May 2013  on 05/24/20103\n",
        "24 STSDAS was last updated by STScI to version  3.16 Patch 1 on 05/23/2013\n",
        "25 SAOImage ds9 was last updated by SAO/HEASARC to version  7.2 on 04/16/2013\n",
        "26 STARLINK was last updated by JAC to version Hikianalia on 04/15/2013\n",
        "27 ASTROPY was last updated by The Astropy Team to version  0.2.4  on 03/19/2013\n",
        "28 CASA was last updated by NRAO to version  4.0.1 on 02/14/2013\n",
        "29 PIMMS was last updated by HEASARC to version  4.6b on 01/25/2013\n",
        "30 AIPS was last updated by NRAO to version  31DEC12 on 12/30/2012\n",
        "31 WCSLIB was last updated by Calabretta to version 0.1 on 10/04/2012\n",
        "32 OSA was last updated by ISDC to version  10.0 on 09/25/2012\n",
        "33 SPEX was last updated by Kaastra/SRON to version  2.03.03 on 08/01/2012\n",
        "34 SPEX was last updated by Kaastra/SRON to version  2.04.00 on 08/01/2012\n",
        "35 Aladin was last updated by CDS; ULP/CNRS  to version 7.5 on 07/01/2012\n",
        "36 WINDOW TO THE STARS was last updated by Izzard/Bonn to version 0.20.4 on 06/13/2012\n",
        "37 GASGANO was last updated by ESO to version 2.4.3  on 06/11/2012\n",
        "38 IRAF was last updated by NOAO to version 2.16 on 03/22/2012\n",
        "39 MOPEX was last updated by SSC to version 18.5.0  on 03/22/2012\n",
        "40 SCISOFT was last updated by ESO to version 7.7  on 03/01/2012\n",
        "41 MIDAS was last updated by ESO to version  12Febpl1.0  on 02/06/2012 \n",
        "42 VISIT was last updated by LLNL to version  2.1.1 on 11/01/2010\n",
        "43 GALPROP was last updated by Stanford to version 54.0.572  on 10/21/2010\n",
        "44 PANDORA was last updated by IASF to version  3.1 on 10/01/2010\n",
        "45 browse_extract.pl was last updated by HEASARC to version 2.1a on 09/20/2010\n",
        "46 Sherpa was last updated by CXC to version  2  on 07/19/2010 \n",
        "47 XIMAGE was last updated by HEASARC to version  4.5.1 on 03/29/2010\n",
        "48 ASTROGRID VO DESKTOP was last updated by UK VOP to version 1.3.2 on 02/10/2010\n",
        "49 XSTAR was last updated by  Kallman/HEASARC to version  2.2 on 11/01/2009\n",
        "50 CCfits was last updated by HEASARC to version  2.2 on 09/09/2009\n",
        "51 XRONOS was last updated by HEASARC to version  5.22 on 08/21/2009\n",
        "52 UKIRT-OT was last updated by JAC to version 31 Jul 2009  on 07/31/2009\n",
        "53 fv was last updated by HEASARC to version  5.3 on 07/16/2009\n",
        "54 browse_extract_wget.pl was last updated by HEASARC to version 2.2 on 07/31/2008\n",
        "55 GRACE was last updated by Weizmann to version  5.1.22 on 05/21/2008\n",
        "56 CMBEASY was last updated by Heidelberg to version  4.4.1 on 05/13/2008\n",
        "57 SPOT/LEOPARD was last updated by SSC to version 18.0.1  on 06/18/2008\n",
        "58 TEMPO2 was last updated by ATNF to version 1.11  on 01/17/2008\n",
        "59 W3Browse was last updated by HEASARC to version 8.4 on 10/09/2007\n",
        "60 PROFIT was last updated by Smith/HEASARC to version  2.0.0 on 08/07/2007\n",
        "61 TLUSTY was last updated by Hubeny+Lanz to version  202 on 10/19/2006\n",
        "62 SYNSPEC was last updated by Hubeny+Lanz to version 43 on 10/05/2005\n",
        "63 ECLIPSE was last updated by ESO to version 5.0  on 09/23/2005\n",
        "64 XSPEC 11 was last updated by HEASARC to version  11.3.2 on 04/13/2005\n",
        "65 STARVIEW was last updated by NWACC to version 0.1 on 12/17/2004\n",
        "66 SEXTRACTOR was last updated by LANL to version  2.3.1 on 04/09/2002\n",
        "67 EXSAS was last updated by MPE to version  01APR_EXP on 04/01/2001\n",
        "68 PROS was last updated by CfA to version 2.5_p1 on 03/01/1998\n"
       ]
      }
     ],
     "prompt_number": 112
    },
    {
     "cell_type": "code",
     "collapsed": false,
     "input": [
      "if 'fv' in name:\n",
      "    print \"CPL in name\""
     ],
     "language": "python",
     "metadata": {},
     "outputs": [
      {
       "output_type": "stream",
       "stream": "stdout",
       "text": [
        "CPL in name\n"
       ]
      }
     ],
     "prompt_number": 146
    },
    {
     "cell_type": "code",
     "collapsed": false,
     "input": [
      "def astroupdate_dict(url=\"http://heasarc.gsfc.nasa.gov/docs/heasarc/astro-update/\"):\n",
      "    from bs4 import BeautifulSoup\n",
      "    import urllib2\n",
      "    response = urllib2.urlopen('http://heasarc.gsfc.nasa.gov/docs/heasarc/astro-update/')\n",
      "    html=response.read()\n",
      "    soup=BeautifulSoup(''.join(html))\n",
      "    table=soup.findAll('table')\n",
      "    soft_table=table[1] # there are 3 tables on the page, the software version table is the 2nd table\n",
      "    rows = soft_table.findAll('tr')\n",
      "    au_dict=dict()\n",
      "    for row in rows[1:]:\n",
      "        cols = row.findAll('td')\n",
      "        n   =''.join(cols[0].find(text=True))\n",
      "        r   =''.join(cols[1].find(text=True))\n",
      "        v   =''.join(cols[2].find(text=True))\n",
      "        m   =''.join(cols[3].find(text=True))\n",
      "        au_dict[n]=(v,m,r)\n",
      "    return au_dict\n",
      "        \n",
      "        \n",
      "def astroupdate(software):\n",
      "    aud=astroupdate_dict()\n",
      "    try:\n",
      "        aud[software]\n",
      "        print \"%s was last updated to version %s on %s by %s\" % (software, aud[software][0], aud[software][1], \n",
      "                                                                 aud[software][2])\n",
      "        v=str(aud[software][0])\n",
      "        v=v.strip(\" \") \n",
      "        m=str(aud[software][1])\n",
      "        m=m.strip(\" \")\n",
      "        r= str(aud[software][2])\n",
      "        r=r.strip(\" \")\n",
      "        return v, m, r\n",
      "    except KeyError:\n",
      "        print \"%s not monitored by Astro-Update\" % software\n",
      "        print \"Valid entries are:\"\n",
      "        key=aud.keys()\n",
      "        key.sort()\n",
      "        for k in key:\n",
      "            print \"'%s'\" % k,\n",
      "        return 1\n",
      "    return\n",
      "        \n",
      "def auto_update(software):\n",
      "    import subprocess\n",
      "    current_vers, moddate, resp = astroupdate(software)\n",
      "    if software==\"HEASoft\":    \n",
      "        fver_installed = subprocess.check_output(['fversion'])\n",
      "        vers=fver_output.strip(\"\\n\").split('_V')\n",
      "        vers=vers[1].rstrip()\n",
      "        print \"Latest version of  HEASoft = %s; You currently have Version %s\" % (current_vers, vers)\n",
      "    "
     ],
     "language": "python",
     "metadata": {},
     "outputs": [],
     "prompt_number": 327
    },
    {
     "cell_type": "code",
     "collapsed": false,
     "input": [
      "software='fv'\n",
      "vers, modd, resp = astroupdate(software)\n",
      "versn"
     ],
     "language": "python",
     "metadata": {},
     "outputs": [
      {
       "output_type": "stream",
       "stream": "stdout",
       "text": [
        "fv was last updated to version  5.3 on 07/16/2009 by HEASARC\n"
       ]
      },
      {
       "metadata": {},
       "output_type": "pyout",
       "prompt_number": 299,
       "text": [
        "'5.3'"
       ]
      }
     ],
     "prompt_number": 299
    },
    {
     "cell_type": "code",
     "collapsed": false,
     "input": [
      "fver_installed = subprocess.check_output(['fversion'])\n",
      "a=fver_installed.split(\"_V\")\n",
      "b=a[1].rstrip()\n",
      "b"
     ],
     "language": "python",
     "metadata": {},
     "outputs": [
      {
       "metadata": {},
       "output_type": "pyout",
       "prompt_number": 324,
       "text": [
        "'6.15.1'"
       ]
      }
     ],
     "prompt_number": 324
    },
    {
     "cell_type": "code",
     "collapsed": false,
     "input": [
      "auto_update(\"HEASoft\")"
     ],
     "language": "python",
     "metadata": {},
     "outputs": [
      {
       "output_type": "stream",
       "stream": "stdout",
       "text": [
        "HEASoft was last updated to version  6.15.1 on 01/28/2014 by HEASARC\n",
        "Latest version of  HEASoft = 6.15.1; You currently have Version 6.15.1\n"
       ]
      }
     ],
     "prompt_number": 328
    },
    {
     "cell_type": "code",
     "collapsed": false,
     "input": [
      "aud=astroupdate_dict()\n",
      "key='HEASoft'\n",
      "try:\n",
      "    aud[key]\n",
      "    print aud[key][0]\n",
      "except KeyError:\n",
      "    print \"%s not in dict\" % key\n",
      "    "
     ],
     "language": "python",
     "metadata": {},
     "outputs": [
      {
       "output_type": "stream",
       "stream": "stdout",
       "text": [
        " 6.15.1\n"
       ]
      }
     ],
     "prompt_number": 282
    },
    {
     "cell_type": "code",
     "collapsed": false,
     "input": [
      "a=\"\".join(str(aud['fv'][0]))\n",
      "a.strip(\" \")"
     ],
     "language": "python",
     "metadata": {},
     "outputs": [
      {
       "metadata": {},
       "output_type": "pyout",
       "prompt_number": 286,
       "text": [
        "'5.3'"
       ]
      }
     ],
     "prompt_number": 286
    },
    {
     "cell_type": "code",
     "collapsed": false,
     "input": [
      "software='HEAsoft'\n",
      "if  software in name:\n",
      "    print \"%s is in name; index = %i\" % (software, name.index('HEAsoft'))\n",
      "else:\n",
      "    print \"%s not in name\" % software\n",
      "   "
     ],
     "language": "python",
     "metadata": {},
     "outputs": [
      {
       "output_type": "stream",
       "stream": "stdout",
       "text": [
        "HEAsoft is in name; index = 9\n"
       ]
      }
     ],
     "prompt_number": 132
    },
    {
     "cell_type": "code",
     "collapsed": false,
     "input": [
      "name[9]"
     ],
     "language": "python",
     "metadata": {},
     "outputs": [
      {
       "metadata": {},
       "output_type": "pyout",
       "prompt_number": 134,
       "text": [
        "u'HEAsoft'"
       ]
      }
     ],
     "prompt_number": 134
    },
    {
     "cell_type": "code",
     "collapsed": false,
     "input": [
      "import subprocess\n",
      "fver_output = subprocess.check_output(['fversion'])"
     ],
     "language": "python",
     "metadata": {},
     "outputs": [],
     "prompt_number": 159
    },
    {
     "cell_type": "code",
     "collapsed": false,
     "input": [
      "fver_output.strip(\"\\n\").split('_V')"
     ],
     "language": "python",
     "metadata": {},
     "outputs": [
      {
       "metadata": {},
       "output_type": "pyout",
       "prompt_number": 166,
       "text": [
        "['24Jan2014', '6.15.1']"
       ]
      }
     ],
     "prompt_number": 166
    },
    {
     "cell_type": "code",
     "collapsed": false,
     "input": [
      "print k"
     ],
     "language": "python",
     "metadata": {},
     "outputs": [
      {
       "output_type": "stream",
       "stream": "stdout",
       "text": [
        "[u'GAIA AND SKYCAT', u'XSTAR', u'CPL', u'PANDORA', u'ACIS_EXTRACT', u'Sherpa', u'CIAO', u'SPOT/LEOPARD', u'TLUSTY', u'TEMPO2', u'VLT Instrument Pipelines', u'browse_extract_wget.pl', u'VISIT', u'STSDAS', u'P2PP', u'STARLINK', u'GSL', u'STScI Python', u'UKIRT-OT', u'Ureka', u'ISIS', u'HEASoft', u'SEXTRACTOR', u'PROFIT', u'PIMMS', u'SAE', u'GASGANO', u'SPLASH', u'PINTofALE', u'SAS', u'CMBEASY', u'GRACE', u'MOPEX', u'STARVIEW', u'SCISOFT', u'SAOImage ds9', u'Aladin', u'fv', u'IRAF', u'CHIANTI IDL package', u'EXSAS', u'CCfits', u'OSA', u'ASTROGRID VO DESKTOP', u'XSPEC', u'WINDOW TO THE STARS', u'MIDAS', u'CASA', u'browse_extract.pl', u'CFITSIO', u'XSPEC 11', u'SPEX', u'XIMAGE', u'WCSLIB', u'IDL Astronomical Users Library', u'PROS', u'XRONOS', u'APT', u'AIPS', u'ASTROPY', u'SYNSPEC', u'W3Browse', u'ECLIPSE', u'GALPROP', u'TARA']\n"
       ]
      }
     ],
     "prompt_number": 227
    },
    {
     "cell_type": "code",
     "collapsed": false,
     "input": [
      "print len(k)"
     ],
     "language": "python",
     "metadata": {},
     "outputs": [
      {
       "output_type": "stream",
       "stream": "stdout",
       "text": [
        "65\n"
       ]
      }
     ],
     "prompt_number": 228
    },
    {
     "cell_type": "code",
     "collapsed": false,
     "input": [
      "print k[64]\n"
     ],
     "language": "python",
     "metadata": {},
     "outputs": [
      {
       "output_type": "stream",
       "stream": "stdout",
       "text": [
        "TARA\n"
       ]
      }
     ],
     "prompt_number": 229
    },
    {
     "cell_type": "code",
     "collapsed": false,
     "input": [
      "arange(0,len(k)-1,9)\n"
     ],
     "language": "python",
     "metadata": {},
     "outputs": [
      {
       "metadata": {},
       "output_type": "pyout",
       "prompt_number": 242,
       "text": [
        "array([ 0,  9, 18, 27, 36, 45, 54, 63])"
       ]
      }
     ],
     "prompt_number": 242
    },
    {
     "cell_type": "markdown",
     "metadata": {},
     "source": [
      "<h2>How to find the latest version for a CALDB</h2>\n",
      "\n",
      "we define a caldb python dictionary as follows:\n",
      "\n",
      "caldb={'ASCA':{'GIS':20060711,'SIS':19991111,'XRT':19991111,'MIS':19940114}, 'BEPPOSAX':{'HGSPC':1999, 'LECS':1999, 'MECS':1999, 'PDS':1999, 'WFC':1999} ...}\n",
      "\n",
      "this dictionary should be defined by parsing the \"supported missions\" webpage\n",
      "http://heasarc.gsfc.nasa.gov/docs/heasarc/caldb/caldb_supported_missions.html"
     ]
    },
    {
     "cell_type": "code",
     "collapsed": false,
     "input": [
      "def caldb_dict(url=\"http://heasarc.gsfc.nasa.gov/docs/heasarc/caldb/caldb_supported_missions.html\"):\n",
      "    \"\"\"\n",
      "    Parse the caldb supported missions web page and convert to a python library\n",
      "    \"\"\"\n",
      "    from bs4 import BeautifulSoup\n",
      "    import urllib2\n",
      "    response = urllib2.urlopen(url)\n",
      "    html=response.read()\n",
      "    soup=BeautifulSoup(''.join(html))\n",
      "    table=soup.findAll('table')\n",
      "    hcal_table=table[1] # there are 3 tables on the page, the caldb version table is the 2nd table\n",
      "    rows = hcal_table.findAll('tr')\n",
      "    #a= ''.join(cols.find(text=True)).strip()\n",
      "    #print a\n",
      "    caldb_dict=dict()\n",
      "    \"\"\"\n",
      "    Read first row - contains the first mission\n",
      "       if first cell in row is not empty: mission name=mis\n",
      "    \"\"\"\n",
      "    cols = rows[0].findAll('td')\n",
      "    mis =str(cols[0].find(text=True))\n",
      "    mis.strip()\n",
      "    #print \"Found %s\" % mis\n",
      "    \"\"\"\n",
      "    Read next row\n",
      "       check that first cell in row is empty: \n",
      "         if cell empty, then add to instrument dictionary\n",
      "            inst_dict[cell[1]]=cell[2] (i.e. something like inst_dict={'XIS':'20140101'}) \n",
      "                 where cell[1] is the instrument name (XIS) and cell[2] is the version date \n",
      "          if cell is not empty: found new mission\n",
      "               so store instr_dict in caldb_dict for previous mission: CALDB_DICT[MIS]=inst_dict\n",
      "               set mis = new mission\n",
      "               clear inst_dict\n",
      "               repeat\n",
      "    \"\"\"\n",
      "    inst_dict=dict()\n",
      "    for row in rows[1:]: # omit first row (i.e. row 0)\n",
      "        cols = row.findAll('td')\n",
      "        #print cols[0]\n",
      "        a=cols[0].find(text=True)\n",
      "        #print a\n",
      "        if len(a.strip()) == 0: # no entry in mission cell, so these are instruments\n",
      "            inst= str(cols[1].find(text=True)).strip()\n",
      "            vers= str(cols[2].find(text=True)).strip()\n",
      "            #print mis, inst, vers\n",
      "            try:\n",
      "                inst_dict[inst]=caldate2vers(vers)\n",
      "            except:\n",
      "                inst_dict[inst]=vers\n",
      "        else: # save instruments & version in mission dictionary\n",
      "            #print inst_dict\n",
      "            #print \"current mission is %s\" % mis\n",
      "            caldb_dict[mis]=inst_dict\n",
      "            #print caldb_dict\n",
      "            inst_dict=dict()\n",
      "            mis=str(a.strip())\n",
      "            #print \"Found new mission %s \" % mis\n",
      "    return caldb_dict\n",
      "\n",
      "def caldate2vers(update_date):\n",
      "    \"\"\"\n",
      "    converts latest update dates (a string in mmm 00, yyyy format) to yyyymmdd format\n",
      "    \"\"\"\n",
      "    month=({'Apr':'04','Aug':'08','Dec':'12','Feb':'02','Jan':'01','Jul':'07','Jun':'06','Mar':'03','May':'05','Nov':'11',\n",
      "          'Oct':'10','Sep':'09'})\n",
      "    a=update_date.split(',')\n",
      "    yyyy=a[1].strip()\n",
      "    b=a[0].split()\n",
      "    mon=b[0]\n",
      "    day=b[1]\n",
      "    return yyyy+month[mon]+day\n",
      "    \n",
      "def current_caldb_vers(mis, inst):\n",
      "    import ftplib\n",
      "    ftp = ftplib.FTP(\"heasarc.gsfc.nasa.gov\")\n",
      "    ftp.login(\"anonymous\", \"\")\n",
      "    ftpmess=ftp.cwd(\"caldb/data/asca/sis\")\n",
      "    list=[]\n",
      "    ftp.dir('caldb.indx', list.append)\n",
      "    ftp.close()\n",
      "    vers=list[0].split()[-1].split('/')[1].split('.')[-1] #[-1] is the last element\n",
      "    return vers\n",
      "    \n",
      "    \n",
      "\n",
      "    \n",
      "        "
     ],
     "language": "python",
     "metadata": {},
     "outputs": [],
     "prompt_number": 209
    },
    {
     "cell_type": "code",
     "collapsed": false,
     "input": [
      "caldict=caldb_dict()\n"
     ],
     "language": "python",
     "metadata": {},
     "outputs": [],
     "prompt_number": 210
    },
    {
     "cell_type": "code",
     "collapsed": false,
     "input": [
      "caldict['BeppoSAX']\n"
     ],
     "language": "python",
     "metadata": {},
     "outputs": [
      {
       "metadata": {},
       "output_type": "pyout",
       "prompt_number": 214,
       "text": [
        "{'HPGSPC': '1999',\n",
        " 'LECS': '1999',\n",
        " 'MECS': '1999',\n",
        " 'PDS': '1999',\n",
        " 'WFC': '1999'}"
       ]
      }
     ],
     "prompt_number": 214
    },
    {
     "cell_type": "code",
     "collapsed": false,
     "input": [
      "a=caldict['ASCA']['GIS'].split(',')\n",
      "yyyy=a[1].strip()\n",
      "yyyy\n",
      "a[0]\n",
      "a[0].split()\n",
      "c='1999'+'11'+'11'\n",
      "c\n",
      "\n",
      "print caldict['ASCA']['GIS']\n",
      "print caldate2vers('Nov 11, 1999')\n"
     ],
     "language": "python",
     "metadata": {},
     "outputs": [
      {
       "output_type": "stream",
       "stream": "stdout",
       "text": [
        "Nov 11, 1999\n",
        "19991111\n"
       ]
      }
     ],
     "prompt_number": 192
    },
    {
     "cell_type": "code",
     "collapsed": false,
     "input": [
      "inst='sis'\n",
      "vers='1999'\n",
      "a={inst:vers}"
     ],
     "language": "python",
     "metadata": {},
     "outputs": [],
     "prompt_number": 336
    },
    {
     "cell_type": "code",
     "collapsed": false,
     "input": [
      "caldict['ASCA']"
     ],
     "language": "python",
     "metadata": {},
     "outputs": [
      {
       "metadata": {},
       "output_type": "pyout",
       "prompt_number": 208,
       "text": [
        "{'GIS': '19991111',\n",
        " 'MIS': '19940114',\n",
        " 'SIS': 'July 11, 2006',\n",
        " 'XRT': '19991111'}"
       ]
      }
     ],
     "prompt_number": 208
    },
    {
     "cell_type": "code",
     "collapsed": false,
     "input": [
      "a={'b':'c',2:5}\n",
      "a\n",
      "a.clear()\n",
      "a"
     ],
     "language": "python",
     "metadata": {},
     "outputs": [
      {
       "metadata": {},
       "output_type": "pyout",
       "prompt_number": 57,
       "text": [
        "{}"
       ]
      }
     ],
     "prompt_number": 57
    },
    {
     "cell_type": "code",
     "collapsed": false,
     "input": [
      "from bs4 import BeautifulSoup\n",
      "import urllib2\n",
      "url=\"http://heasarc.gsfc.nasa.gov/docs/heasarc/caldb/caldb_supported_missions.html\"\n",
      "response = urllib2.urlopen(url)\n",
      "html=response.read()\n",
      "soup = BeautifulSoup(html)\n",
      "table=soup.findAll('table')\n",
      "hcal_table=table[1]# there are 3 tables on the page, the software version table is the 2nd table\n",
      "rows = hcal_table.findAll('tr')\n",
      "cols = rows[3].findAll('td')\n",
      "mis =str(cols[0].find(text=True))\n",
      "\n"
     ],
     "language": "python",
     "metadata": {},
     "outputs": [],
     "prompt_number": 107
    },
    {
     "cell_type": "code",
     "collapsed": false,
     "input": [
      "import calendar\n",
      "enumerate(calendar.month_abbr)\n",
      "dict((v,k) for k,v in enumerate(calendar.month_abbr))"
     ],
     "language": "python",
     "metadata": {},
     "outputs": [
      {
       "metadata": {},
       "output_type": "pyout",
       "prompt_number": 179,
       "text": [
        "{'': 0,\n",
        " 'Apr': 4,\n",
        " 'Aug': 8,\n",
        " 'Dec': 12,\n",
        " 'Feb': 2,\n",
        " 'Jan': 1,\n",
        " 'Jul': 7,\n",
        " 'Jun': 6,\n",
        " 'Mar': 3,\n",
        " 'May': 5,\n",
        " 'Nov': 11,\n",
        " 'Oct': 10,\n",
        " 'Sep': 9}"
       ]
      }
     ],
     "prompt_number": 179
    },
    {
     "cell_type": "code",
     "collapsed": false,
     "input": [
      "mon['Sep']"
     ],
     "language": "python",
     "metadata": {},
     "outputs": [
      {
       "metadata": {},
       "output_type": "pyout",
       "prompt_number": 181,
       "text": [
        "'09'"
       ]
      }
     ],
     "prompt_number": 181
    },
    {
     "cell_type": "code",
     "collapsed": false,
     "input": [
      "import ftplib\n",
      "ftp = ftplib.FTP(\"heasarc.gsfc.nasa.gov\")\n",
      "ftp.login(\"anonymous\", \"\")\n",
      "ftpmess=ftp.cwd(\"caldb/data/asca/sis\")\n",
      "list=[]\n",
      "ftp.dir('caldb.indx', list.append)\n",
      "ftp.close()\n",
      "list"
     ],
     "language": "python",
     "metadata": {},
     "outputs": [
      {
       "metadata": {},
       "output_type": "pyout",
       "prompt_number": 28,
       "text": [
        "['lrwxrwxrwx   1 1389     340            23 Jan  6  2009 caldb.indx -> index/caldb.indx.060711']"
       ]
      }
     ],
     "prompt_number": 28
    },
    {
     "cell_type": "code",
     "collapsed": false,
     "input": [
      "a=list[0].split()\n"
     ],
     "language": "python",
     "metadata": {},
     "outputs": [],
     "prompt_number": 40
    },
    {
     "cell_type": "code",
     "collapsed": false,
     "input": [
      "a[-1]"
     ],
     "language": "python",
     "metadata": {},
     "outputs": [
      {
       "metadata": {},
       "output_type": "pyout",
       "prompt_number": 42,
       "text": [
        "'index/caldb.indx.060711'"
       ]
      }
     ],
     "prompt_number": 42
    },
    {
     "cell_type": "code",
     "collapsed": false,
     "input": [
      "vers=list[0].split()[-1].split('/')[1].split('.')[-1]"
     ],
     "language": "python",
     "metadata": {},
     "outputs": [],
     "prompt_number": 55
    },
    {
     "cell_type": "code",
     "collapsed": false,
     "input": [
      "vers"
     ],
     "language": "python",
     "metadata": {},
     "outputs": [
      {
       "metadata": {},
       "output_type": "pyout",
       "prompt_number": 56,
       "text": [
        "'060711'"
       ]
      }
     ],
     "prompt_number": 56
    },
    {
     "cell_type": "code",
     "collapsed": false,
     "input": [],
     "language": "python",
     "metadata": {},
     "outputs": []
    }
   ],
   "metadata": {}
  }
 ]
}