{
 "metadata": {
  "name": "",
  "signature": "sha256:192df688734587e06e375b8467cca47a547a4db0373e1b176264a6f8f1fc5e02"
 },
 "nbformat": 3,
 "nbformat_minor": 0,
 "worksheets": [
  {
   "cells": [
    {
     "cell_type": "markdown",
     "metadata": {},
     "source": [
      "see\n",
      "\n",
      "http://www.astropython.org/snippet/2013/7/Convert-IPython-notebook-to-ApJ-or-AA-article\n"
     ]
    },
    {
     "cell_type": "code",
     "collapsed": false,
     "input": [
      "from utils import ipynb2article"
     ],
     "language": "python",
     "metadata": {},
     "outputs": [],
     "prompt_number": 52
    },
    {
     "cell_type": "code",
     "collapsed": true,
     "input": [
      "converter=ipynb2article.NotebookConverter()"
     ],
     "language": "python",
     "metadata": {},
     "outputs": [],
     "prompt_number": 53
    },
    {
     "cell_type": "code",
     "collapsed": false,
     "input": [
      "converter.cellconverters['code'] = ipynb2article.MarkedCodeOutputConverter(\"# output->LaTeX\")"
     ],
     "language": "python",
     "metadata": {},
     "outputs": [],
     "prompt_number": 54
    },
    {
     "cell_type": "raw",
     "metadata": {},
     "source": [
      "\n",
      "\\documentclass[11pt]{amsart}\n",
      "\\usepackage{geometry}                % See geometry.pdf to learn the layout options. There are lots.\n",
      "\\geometry{letterpaper}                   % ... or a4paper or a5paper or ... \n",
      "%\\geometry{landscape}                % Activate for for rotated page geometry\n",
      "%\\usepackage[parfill]{parskip}    % Activate to begin paragraphs with an empty line rather than an indent\n",
      "\\usepackage{graphicx}\n",
      "\\usepackage{amssymb}\n",
      "\\usepackage{epstopdf}\n",
      "\\DeclareGraphicsRule{.tif}{png}{.png}{`convert #1 `dirname #1`/`basename #1 .tif`.png}\n",
      "\n",
      "\\title{Brief Article}\n",
      "\\author{The Author}\n",
      "%\\date{}                                           % Activate to display a given date or no date\n",
      "\n",
      "\\begin{document}\n",
      "\\maketitle\n",
      "\n",
      "\n",
      "\n",
      "\n"
     ]
    },
    {
     "cell_type": "raw",
     "metadata": {},
     "source": [
      "This is a test.\n"
     ]
    },
    {
     "cell_type": "code",
     "collapsed": false,
     "input": [
      "# output->LaTeX\n",
      "print \"\\nHere's what 2+2 equals: {0:.2f}\".format(2+2)"
     ],
     "language": "python",
     "metadata": {},
     "outputs": [
      {
       "output_type": "stream",
       "stream": "stdout",
       "text": [
        "\n",
        "Here's what 2+2 equals: 4.00\n"
       ]
      }
     ],
     "prompt_number": 55
    },
    {
     "cell_type": "markdown",
     "metadata": {},
     "source": [
      "\\end{document}  "
     ]
    },
    {
     "cell_type": "code",
     "collapsed": false,
     "input": [
      "converter.convert('Latex_test.ipynb','Latex_test/Latex_test.tex', start=1)"
     ],
     "language": "python",
     "metadata": {},
     "outputs": [
      {
       "output_type": "stream",
       "stream": "stdout",
       "text": [
        "Parsing  Latex_test.ipynb\n",
        "Writing  Latex_test/Latex_test.tex\n"
       ]
      }
     ],
     "prompt_number": 56
    },
    {
     "cell_type": "code",
     "collapsed": false,
     "input": [],
     "language": "python",
     "metadata": {},
     "outputs": [],
     "prompt_number": 56
    },
    {
     "cell_type": "code",
     "collapsed": false,
     "input": [],
     "language": "python",
     "metadata": {},
     "outputs": [],
     "prompt_number": 56
    }
   ],
   "metadata": {}
  }
 ]
}