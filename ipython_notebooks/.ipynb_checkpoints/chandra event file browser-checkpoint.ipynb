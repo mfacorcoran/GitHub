{
 "metadata": {
  "name": ""
 },
 "nbformat": 3,
 "nbformat_minor": 0,
 "worksheets": [
  {
   "cells": [
    {
     "cell_type": "heading",
     "level": 2,
     "metadata": {},
     "source": [
      "Idea for a chandra event file browser "
     ]
    },
    {
     "cell_type": "markdown",
     "metadata": {},
     "source": [
      "<h4>I'd like to:</h4>\n",
      "\n",
      " * specify an object/position\n",
      " * retrieve all the relevant chandra images (or evt files?) from the archive if in the field of view\n",
      " * display each image in its own frame\n",
      " \n",
      "<h4>We need</h4>\n",
      "\n",
      " * way to query the database (webquery.pl?)\n",
      " * exposure maps for each image (if the source position is in the exposure map, then "
     ]
    },
    {
     "cell_type": "code",
     "collapsed": false,
     "input": [],
     "language": "python",
     "metadata": {},
     "outputs": []
    }
   ],
   "metadata": {}
  }
 ]
}