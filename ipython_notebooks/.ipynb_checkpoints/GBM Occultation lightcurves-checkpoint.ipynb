{
 "metadata": {
  "name": "",
  "signature": "sha256:2111e51e84f4832e28363b1d46ba4340c57b8a7720a28dc9a44b8b6d6aca3974"
 },
 "nbformat": 3,
 "nbformat_minor": 0,
 "worksheets": []
}